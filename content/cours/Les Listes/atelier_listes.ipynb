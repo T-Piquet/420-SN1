{
 "cells": [
  {
   "cell_type": "markdown",
   "metadata": {},
   "source": [
    "# Exercice 1\n",
    "\n",
    "1. Initialisez une liste avec les nombres `9`, `23` et `91` (dans l'ordre).\n",
    "1. Ajoutez la valeur `3` à la fin de la liste.\n",
    "1. Ajoutez la valeur `3` au début de la liste\n",
    "1. Afficher la liste\n",
    "\n"
   ]
  },
  {
   "cell_type": "code",
   "execution_count": 6,
   "metadata": {},
   "outputs": [
    {
     "name": "stdout",
     "output_type": "stream",
     "text": [
      "[3, 9, 23, 91, 3]\n"
     ]
    }
   ],
   "source": [
    "# Insérez votre code ici\n",
    "\n",
    "maListe = [9, 23, 91]\n",
    "maListe.append(3)\n",
    "maListe.insert(0, 3)\n",
    "print(maListe)\n"
   ]
  },
  {
   "cell_type": "markdown",
   "metadata": {},
   "source": [
    "1. Additionnez `10` à la 1ère, 3e et dernière valeur de la liste.\n",
    "1. Afficher la liste\n"
   ]
  },
  {
   "cell_type": "code",
   "execution_count": 7,
   "metadata": {},
   "outputs": [
    {
     "name": "stdout",
     "output_type": "stream",
     "text": [
      "[13, 9, 33, 91, 13]\n"
     ]
    }
   ],
   "source": [
    "# Insérez votre code ici\n",
    "\n",
    "maListe[0] += 10\n",
    "maListe[2] += 10\n",
    "maListe[-1] += 10\n",
    "print(maListe)\n"
   ]
  },
  {
   "cell_type": "markdown",
   "metadata": {},
   "source": [
    "1. Mettez la liste en ordre croisant.\n",
    "1. Afficher la liste\n",
    "1. Affichez la longueur de la liste.\n",
    "\n"
   ]
  },
  {
   "cell_type": "code",
   "execution_count": 10,
   "metadata": {},
   "outputs": [
    {
     "name": "stdout",
     "output_type": "stream",
     "text": [
      "[9, 13, 13, 33, 91]\n",
      "longueur: 5\n"
     ]
    }
   ],
   "source": [
    "# Insérez votre code ici\n",
    "\n",
    "maListe.sort()\n",
    "print(maListe)\n",
    "print(\"longueur:\", len(maListe))\n"
   ]
  },
  {
   "cell_type": "markdown",
   "metadata": {},
   "source": [
    "1. Affichez les nombres ayant le chiffre `3` à la position des unités (utilisez une boucle)."
   ]
  },
  {
   "cell_type": "code",
   "execution_count": 11,
   "metadata": {},
   "outputs": [
    {
     "name": "stdout",
     "output_type": "stream",
     "text": [
      "fini par 3:  13\n",
      "fini par 3:  13\n",
      "fini par 3:  33\n"
     ]
    }
   ],
   "source": [
    "# Insérez votre code ici\n",
    "\n",
    "for e in maListe:\n",
    "    if e % 10 == 3:\n",
    "        print(\"fini par 3: \", e)"
   ]
  },
  {
   "cell_type": "code",
   "execution_count": 3,
   "metadata": {},
   "outputs": [
    {
     "name": "stdout",
     "output_type": "stream",
     "text": [
      "[5, 6]\n"
     ]
    }
   ],
   "source": [
    "x = [4,5,6]\n",
    "x.remove(4)\n",
    "print(x)"
   ]
  }
 ],
 "metadata": {
  "kernelspec": {
   "display_name": "Python 3",
   "language": "python",
   "name": "python3"
  },
  "language_info": {
   "codemirror_mode": {
    "name": "ipython",
    "version": 3
   },
   "file_extension": ".py",
   "mimetype": "text/x-python",
   "name": "python",
   "nbconvert_exporter": "python",
   "pygments_lexer": "ipython3",
   "version": "3.10.12"
  }
 },
 "nbformat": 4,
 "nbformat_minor": 2
}

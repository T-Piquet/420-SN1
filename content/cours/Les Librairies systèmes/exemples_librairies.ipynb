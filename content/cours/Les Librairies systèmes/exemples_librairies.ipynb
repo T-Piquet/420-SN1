{
 "cells": [
  {
   "cell_type": "markdown",
   "metadata": {},
   "source": [
    "# Exemples: Les Librairies système\n",
    "\n",
    "\n",
    "\n"
   ]
  },
  {
   "cell_type": "code",
   "execution_count": 1,
   "metadata": {},
   "outputs": [
    {
     "name": "stdout",
     "output_type": "stream",
     "text": [
      "['_index.md', 'librairies.png', 'exemples_librairies.ipynb', 'atelier_librairies.ipynb']\n"
     ]
    }
   ],
   "source": [
    "import os  # importation de la librairie os\n",
    "\n",
    "print(os.listdir('.'))  # Liste les fichiers dans le répertoire courant\n",
    "os.mkdir(\"foo\")   "
   ]
  }
 ],
 "metadata": {
  "kernelspec": {
   "display_name": "Python 3",
   "language": "python",
   "name": "python3"
  },
  "language_info": {
   "codemirror_mode": {
    "name": "ipython",
    "version": 3
   },
   "file_extension": ".py",
   "mimetype": "text/x-python",
   "name": "python",
   "nbconvert_exporter": "python",
   "pygments_lexer": "ipython3",
   "version": "3.10.12"
  }
 },
 "nbformat": 4,
 "nbformat_minor": 2
}

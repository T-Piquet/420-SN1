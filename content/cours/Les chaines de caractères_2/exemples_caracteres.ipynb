{
 "cells": [
  {
   "cell_type": "markdown",
   "metadata": {},
   "source": [
    "# Exemples: Chaines de Caractères\n",
    "\n"
   ]
  },
  {
   "cell_type": "markdown",
   "metadata": {},
   "source": [
    "\n",
    "## Création"
   ]
  },
  {
   "cell_type": "code",
   "execution_count": 4,
   "metadata": {},
   "outputs": [
    {
     "name": "stdout",
     "output_type": "stream",
     "text": [
      ">>> \n",
      "Bonjour\n"
     ]
    }
   ],
   "source": [
    "chaineVide = \"\"\n",
    "maChaine = \"Bonjour\"\n",
    "\n",
    "print(\">>>\", chaineVide)\n",
    "print(maChaine)"
   ]
  },
  {
   "cell_type": "markdown",
   "metadata": {},
   "source": [
    "## Longueur"
   ]
  },
  {
   "cell_type": "code",
   "execution_count": 7,
   "metadata": {},
   "outputs": [
    {
     "name": "stdout",
     "output_type": "stream",
     "text": [
      "Longueur: 7\n"
     ]
    }
   ],
   "source": [
    "longueur = len(maChaine)\n",
    "print(\"Longueur:\", longueur) "
   ]
  },
  {
   "cell_type": "markdown",
   "metadata": {},
   "source": [
    "## Concaténation"
   ]
  },
  {
   "cell_type": "code",
   "execution_count": 13,
   "metadata": {},
   "outputs": [
    {
     "name": "stdout",
     "output_type": "stream",
     "text": [
      "Bonjour\n",
      "Bonjour le monde\n"
     ]
    }
   ],
   "source": [
    "print(maChaine)\n",
    "maChaine = maChaine + \" le monde\"\n",
    "print(maChaine)   "
   ]
  },
  {
   "cell_type": "markdown",
   "metadata": {},
   "source": [
    "## Multiplication\n"
   ]
  },
  {
   "cell_type": "code",
   "execution_count": 14,
   "metadata": {},
   "outputs": [
    {
     "name": "stdout",
     "output_type": "stream",
     "text": [
      "AlloAlloAllo\n"
     ]
    }
   ],
   "source": [
    "uneChaineRepetee = \"Allo\" * 3\n",
    "print(uneChaineRepetee)   "
   ]
  },
  {
   "cell_type": "markdown",
   "metadata": {},
   "source": [
    "## Conversion en chaine de caractères"
   ]
  },
  {
   "cell_type": "code",
   "execution_count": 12,
   "metadata": {},
   "outputs": [
    {
     "name": "stdout",
     "output_type": "stream",
     "text": [
      "123 246\n",
      "123 123123\n"
     ]
    }
   ],
   "source": [
    "var = 123\n",
    "print(var, var * 2)\n",
    "\n",
    "laChaine = str(var)\n",
    "print(laChaine, laChaine * 2)"
   ]
  },
  {
   "cell_type": "markdown",
   "metadata": {},
   "source": [
    "## []"
   ]
  },
  {
   "cell_type": "code",
   "execution_count": 19,
   "metadata": {},
   "outputs": [
    {
     "name": "stdout",
     "output_type": "stream",
     "text": [
      "Bonjour le monde\n",
      "B\n",
      "on\n",
      "jour\n",
      " le monde\n",
      "Bonj\n",
      "Bonjour le mond\n"
     ]
    }
   ],
   "source": [
    "print(maChaine)\n",
    "print(maChaine[0])  # indice 0 correspond à la lettre à la première position de la chaine\n",
    "\n",
    "c = maChaine[1] + maChaine[2]    # 2e et 3e lettre\n",
    "print(c)   \n",
    "\n",
    "print(maChaine[3:7])   # une sous-chaine. Notez que le caractère à l'indice 7 n'est pas inclus (le 8e caractère)\n",
    "print(maChaine[7:])    # Affiche de l'indice 7 jusqu'au dernier\n",
    "print(maChaine[:4])    # Affiche du début jusqu'à l'indice 4 (sans l'inclure)\n",
    "print(maChaine[:-1])   # Affiche du début, jusqu'au dernier caractère (sans l'inclure)\n"
   ]
  },
  {
   "cell_type": "markdown",
   "metadata": {},
   "source": [
    "## lower()"
   ]
  },
  {
   "cell_type": "code",
   "execution_count": 22,
   "metadata": {},
   "outputs": [
    {
     "name": "stdout",
     "output_type": "stream",
     "text": [
      "Bonjour le monde\n",
      "bonjour le monde\n",
      "Bonjour le monde\n"
     ]
    }
   ],
   "source": [
    "print(maChaine)  \n",
    "c = maChaine.lower()\n",
    "print(c)   \n",
    "print(maChaine)     # maChaine reste intacte"
   ]
  },
  {
   "cell_type": "markdown",
   "metadata": {},
   "source": [
    "## upper()"
   ]
  },
  {
   "cell_type": "code",
   "execution_count": 23,
   "metadata": {},
   "outputs": [
    {
     "name": "stdout",
     "output_type": "stream",
     "text": [
      "Bonjour le monde\n",
      "BONJOUR LE MONDE\n",
      "Bonjour le monde\n"
     ]
    }
   ],
   "source": [
    "print(maChaine)   \n",
    "c = maChaine.upper()\n",
    "print(c)   \n",
    "print(maChaine)     # maChaine reste intacte"
   ]
  },
  {
   "cell_type": "markdown",
   "metadata": {},
   "source": [
    "## strip()"
   ]
  },
  {
   "cell_type": "code",
   "execution_count": 25,
   "metadata": {},
   "outputs": [
    {
     "name": "stdout",
     "output_type": "stream",
     "text": [
      "7\n",
      "4\n"
     ]
    }
   ],
   "source": [
    "c = \"  allo\\t\"\n",
    "print(len(c))\n",
    "c = c.strip()\n",
    "print(len(c))"
   ]
  },
  {
   "cell_type": "markdown",
   "metadata": {},
   "source": [
    "## replace()"
   ]
  },
  {
   "cell_type": "code",
   "execution_count": 27,
   "metadata": {},
   "outputs": [
    {
     "name": "stdout",
     "output_type": "stream",
     "text": [
      "abababababa\n",
      "bbbbbbbbbbb\n",
      "cccbb\n"
     ]
    }
   ],
   "source": [
    "uneChaine = \"abababababa\"\n",
    "print(uneChaine)   \n",
    "uneChaine = uneChaine.replace('a', 'b')         # uneChaine est écrasée par le retour de replace()\n",
    "print(uneChaine)   \n",
    "\n",
    "uneChaine = uneChaine.replace('bbb', 'c')\n",
    "print(uneChaine)   "
   ]
  },
  {
   "cell_type": "markdown",
   "metadata": {},
   "source": [
    "## find()"
   ]
  },
  {
   "cell_type": "code",
   "execution_count": 31,
   "metadata": {},
   "outputs": [
    {
     "name": "stdout",
     "output_type": "stream",
     "text": [
      "Bonjour tout le monde\n",
      "012345678901234567890\n",
      "\n",
      "1\n",
      "16\n",
      "-1\n",
      "10\n"
     ]
    }
   ],
   "source": [
    "uneChaine = \"Bonjour tout le monde\"\n",
    "print(uneChaine)\n",
    "print(\"012345678901234567890\\n\")    # Pour afficher les indices\n",
    "\n",
    "indice = uneChaine.find(\"o\")\n",
    "print(indice)  \n",
    "\n",
    "indice = uneChaine.find(\"monde\")\n",
    "print(indice)   \n",
    "\n",
    "indice = uneChaine.find(\"z\")\n",
    "print(indice)   \n",
    "\n",
    "indice = \"Une autre phrase\".find(\"p\")\n",
    "print(indice)   "
   ]
  },
  {
   "cell_type": "markdown",
   "metadata": {},
   "source": [
    "Pour trouver toutes les indices d'une lettre spécifique:"
   ]
  },
  {
   "cell_type": "code",
   "execution_count": 2,
   "metadata": {},
   "outputs": [
    {
     "name": "stdout",
     "output_type": "stream",
     "text": [
      "1 => o\n",
      "4 => o\n",
      "9 => o\n",
      "17 => o\n"
     ]
    }
   ],
   "source": [
    "uneChaine = \"Bonjour tout le monde\"\n",
    "lettreRecherchee = \"o\"\n",
    "\n",
    "indice = uneChaine.find(lettreRecherchee)\n",
    "\n",
    "while indice != -1:\n",
    "    print(indice, \"=>\", uneChaine[indice])      # `uneChaine[indice]` permet de vérifier la lettre à l'impression\n",
    "    # le 2e argument de find() permet d'indiquer où la recherche doit commencer (0 par défaut)\n",
    "    indice = uneChaine.find(lettreRecherchee, indice + 1)"
   ]
  },
  {
   "cell_type": "markdown",
   "metadata": {},
   "source": [
    "## split()"
   ]
  },
  {
   "cell_type": "code",
   "execution_count": 33,
   "metadata": {},
   "outputs": [
    {
     "name": "stdout",
     "output_type": "stream",
     "text": [
      "['un', 'deux', 'trois', 'quatre']\n",
      "['un-deux', 'rois-quatre']\n"
     ]
    }
   ],
   "source": [
    "uneChaine = \"un-deux-trois-quatre\"\n",
    "nombres = uneChaine.split(\"-\")\n",
    "print(nombres)   \n",
    "\n",
    "nombres = uneChaine.split(\"-t\")\n",
    "print(nombres)  "
   ]
  },
  {
   "cell_type": "markdown",
   "metadata": {},
   "source": [
    "## join()"
   ]
  },
  {
   "cell_type": "code",
   "execution_count": 36,
   "metadata": {},
   "outputs": [
    {
     "name": "stdout",
     "output_type": "stream",
     "text": [
      "un-deux-trois-quatre\n",
      "un ==> deux ==> trois ==> quatre\n"
     ]
    }
   ],
   "source": [
    "listeMots = ['un', 'deux', 'trois', 'quatre']   # liste contenant plusieurs chaines de caractères\n",
    "uneChaine = \"-\".join(listeMots)\n",
    "print(uneChaine) \n",
    "\n",
    "uneChaine = \" ==> \".join(listeMots)\n",
    "print(uneChaine)  "
   ]
  },
  {
   "cell_type": "markdown",
   "metadata": {},
   "source": [
    "### Charactères \"spéciaux\"\n",
    "\n",
    "| Caractère |  |\n",
    "| --- | --- |\n",
    "| `\\t` | Tabulation |\n",
    "| `\\n` | Retour de ligne |\n",
    "| `\\\\` | Barre oblique inversée (Backslash) |"
   ]
  },
  {
   "cell_type": "code",
   "execution_count": 39,
   "metadata": {},
   "outputs": [
    {
     "name": "stdout",
     "output_type": "stream",
     "text": [
      "la\tchaine de\n",
      "caractères\\\n"
     ]
    }
   ],
   "source": [
    "uneChaine = \"la\\tchaine de\\ncaractères\\\\\"\n",
    "print(uneChaine)"
   ]
  },
  {
   "cell_type": "markdown",
   "metadata": {},
   "source": [
    "## Chaines avec variables\n",
    "\n",
    "\n",
    "La concaténation:"
   ]
  },
  {
   "cell_type": "code",
   "execution_count": 40,
   "metadata": {},
   "outputs": [
    {
     "name": "stdout",
     "output_type": "stream",
     "text": [
      "Le nombre 23 est plus petit que 35\n"
     ]
    }
   ],
   "source": [
    "var1 = 23\n",
    "var2 = 35\n",
    "laChaine = \"Le nombre \" + str(var1) + \" est plus petit que \" + str(var2)\n",
    "print(laChaine)   # Affiche:  Le nombre 23 est plus petit que 35"
   ]
  },
  {
   "cell_type": "markdown",
   "metadata": {},
   "source": [
    "Le f-strings (**meilleure solution**):\n"
   ]
  },
  {
   "cell_type": "code",
   "execution_count": null,
   "metadata": {},
   "outputs": [],
   "source": [
    "var1 = 23\n",
    "var2 = 35\n",
    "laChaine = f'Le nombre {var1} est plus petit que {var2}'\n",
    "print(laChaine)   # Affiche:  Le nombre 23 est plus petit que 35"
   ]
  },
  {
   "cell_type": "markdown",
   "metadata": {},
   "source": [
    "## Dans une boucle\n",
    "\n",
    "Il est possible d'itérer sur chaque lettre de la chaine:"
   ]
  },
  {
   "cell_type": "code",
   "execution_count": 41,
   "metadata": {},
   "outputs": [
    {
     "name": "stdout",
     "output_type": "stream",
     "text": [
      "La lettre numéro 1 est : B\n",
      "La lettre numéro 2 est : o\n",
      "La lettre numéro 3 est : n\n",
      "La lettre numéro 4 est : j\n",
      "La lettre numéro 5 est : o\n",
      "La lettre numéro 6 est : u\n",
      "La lettre numéro 7 est : r\n"
     ]
    }
   ],
   "source": [
    "rang = 1\n",
    "for lettre in \"Bonjour\":\n",
    "    print(f'La lettre numéro {rang} est : {lettre}')\n",
    "    rang += 1\n",
    "\n"
   ]
  }
 ],
 "metadata": {
  "kernelspec": {
   "display_name": "Python 3",
   "language": "python",
   "name": "python3"
  },
  "language_info": {
   "codemirror_mode": {
    "name": "ipython",
    "version": 3
   },
   "file_extension": ".py",
   "mimetype": "text/x-python",
   "name": "python",
   "nbconvert_exporter": "python",
   "pygments_lexer": "ipython3",
   "version": "3.10.12"
  }
 },
 "nbformat": 4,
 "nbformat_minor": 2
}

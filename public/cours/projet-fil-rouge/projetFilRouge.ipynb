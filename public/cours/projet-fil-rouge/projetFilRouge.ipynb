{
 "cells": [
  {
   "cell_type": "markdown",
   "metadata": {},
   "source": [
    "Nom : <votre nom>\n",
    "Prénom : <votre prénom>\n"
   ]
  },
  {
   "cell_type": "markdown",
   "metadata": {},
   "source": [
    "# Projet Fil Rouge\n",
    "\n",
    "<description>"
   ]
  },
  {
   "cell_type": "markdown",
   "metadata": {},
   "source": [
    "# Partie 1 - Extraction des données\n",
    "\n",
    "\n",
    "## Objectif\n",
    "\n",
    "Vous devrez lire un fichier de données en format `json` et les exporter en format `csv`.\n",
    "\n",
    "\n",
    "## Descrition des étapes\n",
    "\n",
    "1. mmmmm\n",
    "1. jjjjj\n",
    "1. ...."
   ]
  },
  {
   "cell_type": "code",
   "execution_count": null,
   "metadata": {
    "vscode": {
     "languageId": "plaintext"
    }
   },
   "outputs": [],
   "source": [
    "# mettre un squelette du code ..."
   ]
  },
  {
   "cell_type": "markdown",
   "metadata": {},
   "source": [
    "# Partie 2 - Nettoyage des données\n",
    "\n",
    "\n",
    "## Objectif\n",
    "\n",
    "Les données de l'étape précédente ont des données manquantes et erronées.\n",
    "Vous devrez remplacer les données manquantes et corriger les données erronées.\n",
    "\n",
    "\n",
    "## Descrition des étapes\n",
    "1. mmmmm\n",
    "1. jjjjj\n",
    "1. ...."
   ]
  },
  {
   "cell_type": "code",
   "execution_count": null,
   "metadata": {
    "vscode": {
     "languageId": "plaintext"
    }
   },
   "outputs": [],
   "source": [
    "# mettre un squelette du code ..."
   ]
  },
  {
   "cell_type": "markdown",
   "metadata": {},
   "source": [
    "# Partie 3 - Affichage des données\n",
    "\n",
    "\n",
    "## Objectif\n",
    "\n",
    "Vous devez afficher les données sous forme de graphiques.\n",
    "\n",
    "## Descrition des étapes\n",
    "1. mmmmm\n",
    "1. jjjjj\n",
    "1. ...."
   ]
  },
  {
   "cell_type": "code",
   "execution_count": null,
   "metadata": {
    "vscode": {
     "languageId": "plaintext"
    }
   },
   "outputs": [],
   "source": [
    "# mettre un squelette du code ..."
   ]
  },
  {
   "cell_type": "markdown",
   "metadata": {},
   "source": [
    "# Partie 4 - Analyse des données\n",
    "\n",
    "\n",
    "## Objectif\n",
    "\n",
    "Vous devez utiliser des librairies `Python` afin d'analyser les données.\n",
    "\n",
    "## Descrition des étapes\n",
    "1. mmmmm\n",
    "1. jjjjj\n",
    "1. ...."
   ]
  },
  {
   "cell_type": "code",
   "execution_count": null,
   "metadata": {
    "vscode": {
     "languageId": "plaintext"
    }
   },
   "outputs": [],
   "source": [
    "# mettre un squelette du code ..."
   ]
  }
 ],
 "metadata": {
  "kernelspec": {
   "display_name": "Python 3",
   "language": "python",
   "name": "python3"
  },
  "language_info": {
   "codemirror_mode": {
    "name": "ipython",
    "version": 3
   },
   "file_extension": ".py",
   "mimetype": "text/x-python",
   "name": "python",
   "nbconvert_exporter": "python",
   "pygments_lexer": "ipython3",
   "version": "3.10.12"
  }
 },
 "nbformat": 4,
 "nbformat_minor": 2
}

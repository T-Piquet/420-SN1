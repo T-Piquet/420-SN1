{
 "cells": [
  {
   "cell_type": "markdown",
   "metadata": {},
   "source": [
    "## Semaine 3"
   ]
  },
  {
   "cell_type": "markdown",
   "metadata": {},
   "source": [
    "### <u>Exemples de variable"
   ]
  },
  {
   "cell_type": "code",
   "execution_count": 1,
   "metadata": {},
   "outputs": [],
   "source": [
    "degat = 100 # degat est un entier\n",
    "personnage_valorant = \"Cypher\" # personnage_valorant est une chaîne de caractère (String)\n",
    "esport = ['Vitality', 'Fnatic', 'Karmine Corp'] # esport est une liste / tableau\n",
    "est_diffuse = False # est_diffuse est un booléen qui retourne vrai ou faux. Retourne faux dans cet exemple\n",
    "joueurs_cs2 = {'Vitality':'Zywoo', 'Team Spirit':'Donk', 'G2 Esports':'Monesy'} # joueurs_cs2 est un dictionnaire\n",
    "joueurs_lol = {'T1': ['Faker', 'Zeus'], 'G2': ['Caps','Yike'], 'Team Liquid': ['Impact', 'UmTi']} # joueurs_lol est un dictionnaire contenant des listes / tableaux"
   ]
  },
  {
   "cell_type": "markdown",
   "metadata": {},
   "source": [
    "### <u>Affichage de variable"
   ]
  },
  {
   "cell_type": "code",
   "execution_count": 2,
   "metadata": {},
   "outputs": [
    {
     "name": "stdout",
     "output_type": "stream",
     "text": [
      "100\n",
      "Cypher\n",
      "['Vitality', 'Fnatic', 'Karmine Corp']\n",
      "False\n",
      "{'Vitality': 'Zywoo', 'Team Spirit': 'Donk', 'G2 Esports': 'Monesy'}\n",
      "{'T1': ['Faker', 'Zeus'], 'G2': ['Caps', 'Yike'], 'Team Liquid': ['Impact', 'UmTi']}\n"
     ]
    }
   ],
   "source": [
    "print(degat)\n",
    "print(personnage_valorant)\n",
    "print(esport)\n",
    "print(est_diffuse)\n",
    "print(joueurs_cs2)\n",
    "print(joueurs_lol)"
   ]
  },
  {
   "cell_type": "markdown",
   "metadata": {},
   "source": [
    "### <u>Commentaire"
   ]
  },
  {
   "cell_type": "code",
   "execution_count": 11,
   "metadata": {},
   "outputs": [],
   "source": [
    "# Ceci est un commentaire"
   ]
  },
  {
   "cell_type": "markdown",
   "metadata": {},
   "source": [
    "### <u>La casse"
   ]
  },
  {
   "cell_type": "code",
   "execution_count": null,
   "metadata": {},
   "outputs": [],
   "source": [
    "a = 42\n",
    "print(a)"
   ]
  },
  {
   "cell_type": "code",
   "execution_count": null,
   "metadata": {},
   "outputs": [],
   "source": [
    "print(A)"
   ]
  },
  {
   "cell_type": "markdown",
   "metadata": {},
   "source": [
    "### <u>Transtypage"
   ]
  },
  {
   "cell_type": "code",
   "execution_count": null,
   "metadata": {},
   "outputs": [],
   "source": [
    "# Changer le type d'une variable\n",
    "a = str(a) # a devient une chaîne de caractères\n",
    "print(type(a)) # la fonction \"type()\" permet de nous retourner le type de la variable"
   ]
  },
  {
   "cell_type": "code",
   "execution_count": null,
   "metadata": {},
   "outputs": [],
   "source": [
    "a = float(a) # a devient un nombre à virgule\n",
    "print(type(a))"
   ]
  },
  {
   "cell_type": "code",
   "execution_count": null,
   "metadata": {},
   "outputs": [],
   "source": [
    "float(\"Valorant\")"
   ]
  },
  {
   "cell_type": "markdown",
   "metadata": {},
   "source": [
    "### <u>Types élémentaires en python"
   ]
  },
  {
   "cell_type": "code",
   "execution_count": null,
   "metadata": {},
   "outputs": [],
   "source": [
    "a = 7\n",
    "b = 5\n",
    "print(f\"a = {a} et b = {b}\")\n",
    "print(f\"a + b = {a + b}\")\n",
    "print(f\"a - b = {a - b}\")\n",
    "print(f\"a * b = {a * b}\")\n",
    "print(f\"a / b = {a / b}\") # division\n",
    "print(f\"a // b = {a // b}\") # division entière\n",
    "print(f\"a % b = {a % b}\") # modulo\n",
    "print(f\"a ** b = {a ** b}\") # a exp b\n",
    "print(f\"a ** -b = {a ** -b}\") # a exp -b"
   ]
  },
  {
   "cell_type": "markdown",
   "metadata": {},
   "source": [
    "### <u>Affectation multiples"
   ]
  },
  {
   "cell_type": "code",
   "execution_count": null,
   "metadata": {},
   "outputs": [],
   "source": [
    "# Les variables se retrouvent avec la même valeur\n",
    "a = b = 1\n",
    "print(f\"a = {a} et b = {b}\")"
   ]
  },
  {
   "cell_type": "code",
   "execution_count": null,
   "metadata": {},
   "outputs": [],
   "source": [
    "# Autre méthode d'affectation multiple\n",
    "a, b  = 1, 2\n",
    "print(f\"a = {a} et b = {b}\")"
   ]
  },
  {
   "cell_type": "markdown",
   "metadata": {},
   "source": [
    "### <u>Instructions"
   ]
  },
  {
   "cell_type": "code",
   "execution_count": null,
   "metadata": {},
   "outputs": [],
   "source": [
    "# Exemple d'instructions\n",
    "a = 1\n",
    "b = 2\n",
    "somme = a + b\n",
    "print(f\"La somme de a + b est égale à : {somme}\")"
   ]
  },
  {
   "cell_type": "markdown",
   "metadata": {},
   "source": [
    "### <u>Opération particulière"
   ]
  },
  {
   "cell_type": "code",
   "execution_count": null,
   "metadata": {},
   "outputs": [],
   "source": [
    "# Opération particulière\n",
    "a = 2\n",
    "print(f\"a est égal à {a}\")\n",
    "\n",
    "a = a + 1 # le résultat sera 3.\n",
    "print(f\"a est maintenant égal à {a}\")"
   ]
  },
  {
   "cell_type": "markdown",
   "metadata": {},
   "source": [
    "### <u>Opérateur de comparaison"
   ]
  },
  {
   "cell_type": "code",
   "execution_count": null,
   "metadata": {},
   "outputs": [],
   "source": [
    "# Comparaison\n",
    "dix_fois_dix = (100 == 10 *10)\n",
    "print(dix_fois_dix)"
   ]
  },
  {
   "cell_type": "markdown",
   "metadata": {},
   "source": [
    "### <u>Intéraction avec la machine"
   ]
  },
  {
   "cell_type": "code",
   "execution_count": null,
   "metadata": {},
   "outputs": [],
   "source": [
    "# Saisie d'une valeur\n",
    "valeur = int(input(\"Veuillez saisir une valeur : \"))\n",
    "print(f\"La valeur saisie est : {valeur}\")"
   ]
  },
  {
   "cell_type": "markdown",
   "metadata": {},
   "source": [
    "### <u>Exemple de programme"
   ]
  },
  {
   "cell_type": "code",
   "execution_count": null,
   "metadata": {},
   "outputs": [],
   "source": [
    "# Année actuelle\n",
    "annee_actuelle = 2024\n",
    "print(f\"Nous sommes en: {annee_actuelle}\")\n",
    "\n",
    "# Demandez à l'utilisateur d'entrer son année de naissance\n",
    "annee_naissance = int(input(\"Entrer votre année de naissance: \"))\n",
    "print(f\"Vous êtes né(e) en: {annee_naissance}\")\n",
    "\n",
    "# Calcul de l'âge\n",
    "age = annee_actuelle - annee_naissance\n",
    "\n",
    "# Affichage de l'âge\n",
    "print(f\"Vous avez {age} ans.\")"
   ]
  },
  {
   "cell_type": "code",
   "execution_count": null,
   "metadata": {},
   "outputs": [],
   "source": []
  }
 ],
 "metadata": {
  "kernelspec": {
   "display_name": "Python 3",
   "language": "python",
   "name": "python3"
  },
  "language_info": {
   "codemirror_mode": {
    "name": "ipython",
    "version": 3
   },
   "file_extension": ".py",
   "mimetype": "text/x-python",
   "name": "python",
   "nbconvert_exporter": "python",
   "pygments_lexer": "ipython3",
   "version": "3.11.9"
  }
 },
 "nbformat": 4,
 "nbformat_minor": 2
}
